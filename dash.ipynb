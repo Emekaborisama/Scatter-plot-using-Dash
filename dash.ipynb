{
  "nbformat": 4,
  "nbformat_minor": 0,
  "metadata": {
    "colab": {
      "name": "dash.ipynb",
      "version": "0.3.2",
      "provenance": [],
      "include_colab_link": true
    },
    "kernelspec": {
      "name": "python2",
      "display_name": "Python 2"
    },
    "accelerator": "TPU"
  },
  "cells": [
    {
      "cell_type": "markdown",
      "metadata": {
        "id": "view-in-github",
        "colab_type": "text"
      },
      "source": [
        "<a href=\"https://colab.research.google.com/github/Emekaborisama/Scatter-plot-using-Dash/blob/master/dash.ipynb\" target=\"_parent\"><img src=\"https://colab.research.google.com/assets/colab-badge.svg\" alt=\"Open In Colab\"/></a>"
      ]
    },
    {
      "metadata": {
        "id": "_DQNdUBmWef6",
        "colab_type": "code",
        "outputId": "0871ac2b-878f-40fe-a280-ab3a4a028a9f",
        "colab": {
          "base_uri": "https://localhost:8080/",
          "height": 238
        }
      },
      "cell_type": "code",
      "source": [
        "!wget https://bin.equinox.io/c/4VmDzA7iaHb/ngrok-stable-linux-amd64.zip\n",
        "!unzip ngrok-stable-linux-amd64.zip"
      ],
      "execution_count": 4,
      "outputs": [
        {
          "output_type": "stream",
          "text": [
            "--2018-12-14 07:37:31--  https://bin.equinox.io/c/4VmDzA7iaHb/ngrok-stable-linux-amd64.zip\n",
            "Resolving bin.equinox.io (bin.equinox.io)... 34.206.9.96, 34.199.255.1, 34.204.22.7, ...\n",
            "Connecting to bin.equinox.io (bin.equinox.io)|34.206.9.96|:443... connected.\n",
            "HTTP request sent, awaiting response... 200 OK\n",
            "Length: 5363700 (5.1M) [application/octet-stream]\n",
            "Saving to: ‘ngrok-stable-linux-amd64.zip’\n",
            "\n",
            "\r          ngrok-sta   0%[                    ]       0  --.-KB/s               \r         ngrok-stab  34%[=====>              ]   1.75M  8.53MB/s               \rngrok-stable-linux- 100%[===================>]   5.11M  20.7MB/s    in 0.2s    \n",
            "\n",
            "2018-12-14 07:37:32 (20.7 MB/s) - ‘ngrok-stable-linux-amd64.zip’ saved [5363700/5363700]\n",
            "\n",
            "Archive:  ngrok-stable-linux-amd64.zip\n",
            "  inflating: ngrok                   \n"
          ],
          "name": "stdout"
        }
      ]
    },
    {
      "metadata": {
        "id": "Un6LE1oEWnwl",
        "colab_type": "code",
        "colab": {}
      },
      "cell_type": "code",
      "source": [
        "get_ipython().system_raw('./ngrok http 8050 &')"
      ],
      "execution_count": 0,
      "outputs": []
    },
    {
      "metadata": {
        "id": "Zwkazfx7Wr87",
        "colab_type": "code",
        "outputId": "9862bc1f-62d7-489b-ab94-1c3a6c5f6d37",
        "colab": {
          "base_uri": "https://localhost:8080/",
          "height": 34
        }
      },
      "cell_type": "code",
      "source": [
        "! curl -s http://localhost:4040/api/tunnels | python3 -c \\\n",
        "    \"import sys, json; print(json.load(sys.stdin)['tunnels'][0]['public_url'])\""
      ],
      "execution_count": 6,
      "outputs": [
        {
          "output_type": "stream",
          "text": [
            "http://358453b9.ngrok.io\n"
          ],
          "name": "stdout"
        }
      ]
    },
    {
      "metadata": {
        "id": "EqVt2GA9WyUF",
        "colab_type": "code",
        "outputId": "4460ff89-543b-479a-e679-91da7a2983a0",
        "colab": {
          "base_uri": "https://localhost:8080/",
          "height": 1890
        }
      },
      "cell_type": "code",
      "source": [
        "!pip install dash==0.31.1  # The core dash backend\n",
        "!pip install dash-html-components==0.13.2  # HTML components\n",
        "!pip install dash-core-components==0.39.0  # Supercharged components\n",
        "!pip install dash-table==3.1.7"
      ],
      "execution_count": 7,
      "outputs": [
        {
          "output_type": "stream",
          "text": [
            "Collecting dash==0.31.1\n",
            "  Downloading https://files.pythonhosted.org/packages/84/aa/8f5a6267ab21770a71a1bcc8a3fba6bbf3a8c1725e7571a824358db8431c/dash-0.31.1.tar.gz\n",
            "Requirement already satisfied: Flask>=0.12 in /usr/local/lib/python2.7/dist-packages (from dash==0.31.1) (1.0.2)\n",
            "Collecting flask-compress (from dash==0.31.1)\n",
            "  Downloading https://files.pythonhosted.org/packages/0e/2a/378bd072928f6d92fd8c417d66b00c757dc361c0405a46a0134de6fd323d/Flask-Compress-1.4.0.tar.gz\n",
            "Requirement already satisfied: plotly in /usr/local/lib/python2.7/dist-packages (from dash==0.31.1) (1.12.12)\n",
            "Collecting dash_renderer (from dash==0.31.1)\n",
            "\u001b[?25l  Downloading https://files.pythonhosted.org/packages/34/b2/f858e7057336d73082277563abbdfbe2273cf5a9a8160f658fba435932c3/dash_renderer-0.16.0.tar.gz (960kB)\n",
            "\u001b[K    100% |████████████████████████████████| 962kB 13.4MB/s \n",
            "\u001b[?25hRequirement already satisfied: Werkzeug>=0.14 in /usr/local/lib/python2.7/dist-packages (from Flask>=0.12->dash==0.31.1) (0.14.1)\n",
            "Requirement already satisfied: click>=5.1 in /usr/local/lib/python2.7/dist-packages (from Flask>=0.12->dash==0.31.1) (7.0)\n",
            "Requirement already satisfied: Jinja2>=2.10 in /usr/local/lib/python2.7/dist-packages (from Flask>=0.12->dash==0.31.1) (2.10)\n",
            "Requirement already satisfied: itsdangerous>=0.24 in /usr/local/lib/python2.7/dist-packages (from Flask>=0.12->dash==0.31.1) (1.1.0)\n",
            "Requirement already satisfied: requests in /usr/local/lib/python2.7/dist-packages (from plotly->dash==0.31.1) (2.18.4)\n",
            "Requirement already satisfied: six in /usr/local/lib/python2.7/dist-packages (from plotly->dash==0.31.1) (1.11.0)\n",
            "Requirement already satisfied: pytz in /usr/local/lib/python2.7/dist-packages (from plotly->dash==0.31.1) (2018.7)\n",
            "Requirement already satisfied: MarkupSafe>=0.23 in /usr/local/lib/python2.7/dist-packages (from Jinja2>=2.10->Flask>=0.12->dash==0.31.1) (1.1.0)\n",
            "Requirement already satisfied: idna<2.7,>=2.5 in /usr/local/lib/python2.7/dist-packages (from requests->plotly->dash==0.31.1) (2.6)\n",
            "Requirement already satisfied: urllib3<1.23,>=1.21.1 in /usr/local/lib/python2.7/dist-packages (from requests->plotly->dash==0.31.1) (1.22)\n",
            "Requirement already satisfied: certifi>=2017.4.17 in /usr/local/lib/python2.7/dist-packages (from requests->plotly->dash==0.31.1) (2018.11.29)\n",
            "Requirement already satisfied: chardet<3.1.0,>=3.0.2 in /usr/local/lib/python2.7/dist-packages (from requests->plotly->dash==0.31.1) (3.0.4)\n",
            "Building wheels for collected packages: dash, flask-compress, dash-renderer\n",
            "  Running setup.py bdist_wheel for dash ... \u001b[?25l-\b \bdone\n",
            "\u001b[?25h  Stored in directory: /root/.cache/pip/wheels/50/0c/6d/3a89e4f4d6b11094a08d01ea33df5fea228bf0aee1ccc5d981\n",
            "  Running setup.py bdist_wheel for flask-compress ... \u001b[?25l-\b \bdone\n",
            "\u001b[?25h  Stored in directory: /root/.cache/pip/wheels/96/32/88/a1f6d9dd3c29570ab3a8acc0d556b3b20abcf3c623c868ce0a\n",
            "  Running setup.py bdist_wheel for dash-renderer ... \u001b[?25l-\b \b\\\b \bdone\n",
            "\u001b[?25h  Stored in directory: /root/.cache/pip/wheels/7b/ff/67/cd698082858ccf208df0aaf391e7795e5ef299c97e5d58d7ab\n",
            "Successfully built dash flask-compress dash-renderer\n",
            "Installing collected packages: flask-compress, dash-renderer, dash\n",
            "Successfully installed dash-0.31.1 dash-renderer-0.16.0 flask-compress-1.4.0\n",
            "Collecting dash-html-components==0.13.2\n",
            "\u001b[?25l  Downloading https://files.pythonhosted.org/packages/bf/9b/f3e6f121641d14bb2357e7a7208b87adfc21b7cd484444799da588df14fd/dash_html_components-0.13.2.tar.gz (236kB)\n",
            "\u001b[K    100% |████████████████████████████████| 245kB 7.4MB/s \n",
            "\u001b[?25hRequirement already satisfied: dash in /usr/local/lib/python2.7/dist-packages (from dash-html-components==0.13.2) (0.31.1)\n",
            "Requirement already satisfied: Flask>=0.12 in /usr/local/lib/python2.7/dist-packages (from dash->dash-html-components==0.13.2) (1.0.2)\n",
            "Requirement already satisfied: flask-compress in /usr/local/lib/python2.7/dist-packages (from dash->dash-html-components==0.13.2) (1.4.0)\n",
            "Requirement already satisfied: dash-renderer in /usr/local/lib/python2.7/dist-packages (from dash->dash-html-components==0.13.2) (0.16.0)\n",
            "Requirement already satisfied: plotly in /usr/local/lib/python2.7/dist-packages (from dash->dash-html-components==0.13.2) (1.12.12)\n",
            "Requirement already satisfied: Werkzeug>=0.14 in /usr/local/lib/python2.7/dist-packages (from Flask>=0.12->dash->dash-html-components==0.13.2) (0.14.1)\n",
            "Requirement already satisfied: click>=5.1 in /usr/local/lib/python2.7/dist-packages (from Flask>=0.12->dash->dash-html-components==0.13.2) (7.0)\n",
            "Requirement already satisfied: Jinja2>=2.10 in /usr/local/lib/python2.7/dist-packages (from Flask>=0.12->dash->dash-html-components==0.13.2) (2.10)\n",
            "Requirement already satisfied: itsdangerous>=0.24 in /usr/local/lib/python2.7/dist-packages (from Flask>=0.12->dash->dash-html-components==0.13.2) (1.1.0)\n",
            "Requirement already satisfied: requests in /usr/local/lib/python2.7/dist-packages (from plotly->dash->dash-html-components==0.13.2) (2.18.4)\n",
            "Requirement already satisfied: six in /usr/local/lib/python2.7/dist-packages (from plotly->dash->dash-html-components==0.13.2) (1.11.0)\n",
            "Requirement already satisfied: pytz in /usr/local/lib/python2.7/dist-packages (from plotly->dash->dash-html-components==0.13.2) (2018.7)\n",
            "Requirement already satisfied: MarkupSafe>=0.23 in /usr/local/lib/python2.7/dist-packages (from Jinja2>=2.10->Flask>=0.12->dash->dash-html-components==0.13.2) (1.1.0)\n",
            "Requirement already satisfied: idna<2.7,>=2.5 in /usr/local/lib/python2.7/dist-packages (from requests->plotly->dash->dash-html-components==0.13.2) (2.6)\n",
            "Requirement already satisfied: urllib3<1.23,>=1.21.1 in /usr/local/lib/python2.7/dist-packages (from requests->plotly->dash->dash-html-components==0.13.2) (1.22)\n",
            "Requirement already satisfied: certifi>=2017.4.17 in /usr/local/lib/python2.7/dist-packages (from requests->plotly->dash->dash-html-components==0.13.2) (2018.11.29)\n",
            "Requirement already satisfied: chardet<3.1.0,>=3.0.2 in /usr/local/lib/python2.7/dist-packages (from requests->plotly->dash->dash-html-components==0.13.2) (3.0.4)\n",
            "Building wheels for collected packages: dash-html-components\n",
            "  Running setup.py bdist_wheel for dash-html-components ... \u001b[?25l-\b \b\\\b \bdone\n",
            "\u001b[?25h  Stored in directory: /root/.cache/pip/wheels/93/aa/99/a88a93e39b33d179239e0e2869bf6a093e8377bfe04e95ca8e\n",
            "Successfully built dash-html-components\n",
            "Installing collected packages: dash-html-components\n",
            "Successfully installed dash-html-components-0.13.2\n",
            "Collecting dash-core-components==0.39.0\n",
            "\u001b[?25l  Downloading https://files.pythonhosted.org/packages/a1/e5/fe391f283966c71678927da312a1d37758d4714efc7b332b174bc52c011a/dash_core_components-0.39.0.tar.gz (3.9MB)\n",
            "\u001b[K    100% |████████████████████████████████| 3.9MB 4.8MB/s \n",
            "\u001b[?25hRequirement already satisfied: dash in /usr/local/lib/python2.7/dist-packages (from dash-core-components==0.39.0) (0.31.1)\n",
            "Requirement already satisfied: Flask>=0.12 in /usr/local/lib/python2.7/dist-packages (from dash->dash-core-components==0.39.0) (1.0.2)\n",
            "Requirement already satisfied: flask-compress in /usr/local/lib/python2.7/dist-packages (from dash->dash-core-components==0.39.0) (1.4.0)\n",
            "Requirement already satisfied: dash-renderer in /usr/local/lib/python2.7/dist-packages (from dash->dash-core-components==0.39.0) (0.16.0)\n",
            "Requirement already satisfied: plotly in /usr/local/lib/python2.7/dist-packages (from dash->dash-core-components==0.39.0) (1.12.12)\n",
            "Requirement already satisfied: Werkzeug>=0.14 in /usr/local/lib/python2.7/dist-packages (from Flask>=0.12->dash->dash-core-components==0.39.0) (0.14.1)\n",
            "Requirement already satisfied: click>=5.1 in /usr/local/lib/python2.7/dist-packages (from Flask>=0.12->dash->dash-core-components==0.39.0) (7.0)\n",
            "Requirement already satisfied: Jinja2>=2.10 in /usr/local/lib/python2.7/dist-packages (from Flask>=0.12->dash->dash-core-components==0.39.0) (2.10)\n",
            "Requirement already satisfied: itsdangerous>=0.24 in /usr/local/lib/python2.7/dist-packages (from Flask>=0.12->dash->dash-core-components==0.39.0) (1.1.0)\n",
            "Requirement already satisfied: requests in /usr/local/lib/python2.7/dist-packages (from plotly->dash->dash-core-components==0.39.0) (2.18.4)\n",
            "Requirement already satisfied: six in /usr/local/lib/python2.7/dist-packages (from plotly->dash->dash-core-components==0.39.0) (1.11.0)\n",
            "Requirement already satisfied: pytz in /usr/local/lib/python2.7/dist-packages (from plotly->dash->dash-core-components==0.39.0) (2018.7)\n",
            "Requirement already satisfied: MarkupSafe>=0.23 in /usr/local/lib/python2.7/dist-packages (from Jinja2>=2.10->Flask>=0.12->dash->dash-core-components==0.39.0) (1.1.0)\n",
            "Requirement already satisfied: idna<2.7,>=2.5 in /usr/local/lib/python2.7/dist-packages (from requests->plotly->dash->dash-core-components==0.39.0) (2.6)\n",
            "Requirement already satisfied: urllib3<1.23,>=1.21.1 in /usr/local/lib/python2.7/dist-packages (from requests->plotly->dash->dash-core-components==0.39.0) (1.22)\n",
            "Requirement already satisfied: certifi>=2017.4.17 in /usr/local/lib/python2.7/dist-packages (from requests->plotly->dash->dash-core-components==0.39.0) (2018.11.29)\n",
            "Requirement already satisfied: chardet<3.1.0,>=3.0.2 in /usr/local/lib/python2.7/dist-packages (from requests->plotly->dash->dash-core-components==0.39.0) (3.0.4)\n",
            "Building wheels for collected packages: dash-core-components\n",
            "  Running setup.py bdist_wheel for dash-core-components ... \u001b[?25l-\b \b\\\b \b|\b \bdone\n",
            "\u001b[?25h  Stored in directory: /root/.cache/pip/wheels/c0/34/5a/430acb2820ad50081c36c73b8af9fa672613b6d5e0580b9c43\n",
            "Successfully built dash-core-components\n",
            "Installing collected packages: dash-core-components\n",
            "Successfully installed dash-core-components-0.39.0\n",
            "Collecting dash-table==3.1.7\n",
            "\u001b[?25l  Downloading https://files.pythonhosted.org/packages/28/a5/4e321c894012e176de0939e3ce7868790aa67acf9ce980bd4b18dacbeb35/dash_table-3.1.7.tar.gz (80kB)\n",
            "\u001b[K    100% |████████████████████████████████| 81kB 3.7MB/s \n",
            "\u001b[?25hRequirement already satisfied: dash in /usr/local/lib/python2.7/dist-packages (from dash-table==3.1.7) (0.31.1)\n",
            "Requirement already satisfied: Flask>=0.12 in /usr/local/lib/python2.7/dist-packages (from dash->dash-table==3.1.7) (1.0.2)\n",
            "Requirement already satisfied: flask-compress in /usr/local/lib/python2.7/dist-packages (from dash->dash-table==3.1.7) (1.4.0)\n",
            "Requirement already satisfied: dash-renderer in /usr/local/lib/python2.7/dist-packages (from dash->dash-table==3.1.7) (0.16.0)\n",
            "Requirement already satisfied: plotly in /usr/local/lib/python2.7/dist-packages (from dash->dash-table==3.1.7) (1.12.12)\n",
            "Requirement already satisfied: Werkzeug>=0.14 in /usr/local/lib/python2.7/dist-packages (from Flask>=0.12->dash->dash-table==3.1.7) (0.14.1)\n",
            "Requirement already satisfied: click>=5.1 in /usr/local/lib/python2.7/dist-packages (from Flask>=0.12->dash->dash-table==3.1.7) (7.0)\n",
            "Requirement already satisfied: Jinja2>=2.10 in /usr/local/lib/python2.7/dist-packages (from Flask>=0.12->dash->dash-table==3.1.7) (2.10)\n",
            "Requirement already satisfied: itsdangerous>=0.24 in /usr/local/lib/python2.7/dist-packages (from Flask>=0.12->dash->dash-table==3.1.7) (1.1.0)\n",
            "Requirement already satisfied: requests in /usr/local/lib/python2.7/dist-packages (from plotly->dash->dash-table==3.1.7) (2.18.4)\n",
            "Requirement already satisfied: six in /usr/local/lib/python2.7/dist-packages (from plotly->dash->dash-table==3.1.7) (1.11.0)\n",
            "Requirement already satisfied: pytz in /usr/local/lib/python2.7/dist-packages (from plotly->dash->dash-table==3.1.7) (2018.7)\n",
            "Requirement already satisfied: MarkupSafe>=0.23 in /usr/local/lib/python2.7/dist-packages (from Jinja2>=2.10->Flask>=0.12->dash->dash-table==3.1.7) (1.1.0)\n",
            "Requirement already satisfied: idna<2.7,>=2.5 in /usr/local/lib/python2.7/dist-packages (from requests->plotly->dash->dash-table==3.1.7) (2.6)\n",
            "Requirement already satisfied: urllib3<1.23,>=1.21.1 in /usr/local/lib/python2.7/dist-packages (from requests->plotly->dash->dash-table==3.1.7) (1.22)\n",
            "Requirement already satisfied: certifi>=2017.4.17 in /usr/local/lib/python2.7/dist-packages (from requests->plotly->dash->dash-table==3.1.7) (2018.11.29)\n",
            "Requirement already satisfied: chardet<3.1.0,>=3.0.2 in /usr/local/lib/python2.7/dist-packages (from requests->plotly->dash->dash-table==3.1.7) (3.0.4)\n",
            "Building wheels for collected packages: dash-table\n",
            "  Running setup.py bdist_wheel for dash-table ... \u001b[?25l-\b \bdone\n",
            "\u001b[?25h  Stored in directory: /root/.cache/pip/wheels/fb/8c/a1/90313671f400f0295c43f727db7900609f0dcd87d8d41a7ec4\n",
            "Successfully built dash-table\n",
            "Installing collected packages: dash-table\n",
            "Successfully installed dash-table-3.1.7\n"
          ],
          "name": "stdout"
        }
      ]
    },
    {
      "metadata": {
        "id": "QpqWMhgJZF-1",
        "colab_type": "code",
        "colab": {}
      },
      "cell_type": "code",
      "source": [
        "# -*- coding: utf-8 -*-"
      ],
      "execution_count": 0,
      "outputs": []
    },
    {
      "metadata": {
        "id": "4jkSlKhxW73n",
        "colab_type": "code",
        "outputId": "f8774616-cd2e-429a-db09-b9e22b1061f5",
        "colab": {
          "base_uri": "https://localhost:8080/",
          "height": 34
        }
      },
      "cell_type": "code",
      "source": [
        "\n",
        "%%writefile my_app1.py\n",
        "# -*- coding: utf-8 -*-\n",
        "import dash\n",
        "import dash_core_components as dcc\n",
        "import dash_html_components as html\n",
        "import pandas as pd\n",
        "import plotly.graph_objs as go\n",
        "\n",
        "external_stylesheets = ['https://codepen.io/chriddyp/pen/bWLwgP.css']\n",
        "\n",
        "app = dash.Dash(__name__, external_stylesheets=external_stylesheets)\n",
        "\n",
        "df = pd.read_csv(\n",
        "    'https://gist.githubusercontent.com/chriddyp/'\n",
        "    'cb5392c35661370d95f300086accea51/raw/'\n",
        "    '8e0768211f6b747c0db42a9ce9a0937dafcbd8b2/'\n",
        "    'indicators.csv')\n",
        "\n",
        "available_indicators = df['Indicator Name'].unique()\n",
        "\n",
        "app.layout = html.Div([\n",
        "    html.Div([\n",
        "\n",
        "        html.Div([\n",
        "            dcc.Dropdown(\n",
        "                id='xaxis-column',\n",
        "                options=[{'label': i, 'value': i} for i in available_indicators],\n",
        "                value='Fertility rate, total (births per woman)'\n",
        "            ),\n",
        "            dcc.RadioItems(\n",
        "                id='xaxis-type',\n",
        "                options=[{'label': i, 'value': i} for i in ['Linear', 'Log']],\n",
        "                value='Linear',\n",
        "                labelStyle={'display': 'inline-block'}\n",
        "            )\n",
        "        ],\n",
        "        style={'width': '48%', 'display': 'inline-block'}),\n",
        "\n",
        "        html.Div([\n",
        "            dcc.Dropdown(\n",
        "                id='yaxis-column',\n",
        "                options=[{'label': i, 'value': i} for i in available_indicators],\n",
        "                value='Life expectancy at birth, total (years)'\n",
        "            ),\n",
        "            dcc.RadioItems(\n",
        "                id='yaxis-type',\n",
        "                options=[{'label': i, 'value': i} for i in ['Linear', 'Log']],\n",
        "                value='Linear',\n",
        "                labelStyle={'display': 'inline-block'}\n",
        "            )\n",
        "        ],style={'width': '48%', 'float': 'right', 'display': 'inline-block'})\n",
        "    ]),\n",
        "\n",
        "    dcc.Graph(id='indicator-graphic'),\n",
        "\n",
        "    dcc.Slider(\n",
        "        id='year--slider',\n",
        "        min=df['Year'].min(),\n",
        "        max=df['Year'].max(),\n",
        "        value=df['Year'].max(),\n",
        "        marks={str(year): str(year) for year in df['Year'].unique()}\n",
        "    )\n",
        "])\n",
        "\n",
        "@app.callback(\n",
        "    dash.dependencies.Output('indicator-graphic', 'figure'),\n",
        "    [dash.dependencies.Input('xaxis-column', 'value'),\n",
        "     dash.dependencies.Input('yaxis-column', 'value'),\n",
        "     dash.dependencies.Input('xaxis-type', 'value'),\n",
        "     dash.dependencies.Input('yaxis-type', 'value'),\n",
        "     dash.dependencies.Input('year--slider', 'value')])\n",
        "def update_graph(xaxis_column_name, yaxis_column_name,\n",
        "                 xaxis_type, yaxis_type,\n",
        "                 year_value):\n",
        "    dff = df[df['Year'] == year_value]\n",
        "\n",
        "    return {\n",
        "        'data': [go.Scatter(\n",
        "            x=dff[dff['Indicator Name'] == xaxis_column_name]['Value'],\n",
        "            y=dff[dff['Indicator Name'] == yaxis_column_name]['Value'],\n",
        "            text=dff[dff['Indicator Name'] == yaxis_column_name]['Country Name'],\n",
        "            mode='markers',\n",
        "            marker={\n",
        "                'size': 15,\n",
        "                'opacity': 0.5,\n",
        "                'line': {'width': 0.5, 'color': 'white'}\n",
        "            }\n",
        "        )],\n",
        "        'layout': go.Layout(\n",
        "            xaxis={\n",
        "                'title': xaxis_column_name,\n",
        "                'type': 'linear' if xaxis_type == 'Linear' else 'log'\n",
        "            },\n",
        "            yaxis={\n",
        "                'title': yaxis_column_name,\n",
        "                'type': 'linear' if yaxis_type == 'Linear' else 'log'\n",
        "            },\n",
        "            margin={'l': 40, 'b': 40, 't': 10, 'r': 0},\n",
        "            hovermode='closest'\n",
        "        )\n",
        "    }\n",
        "\n",
        "\n",
        "if __name__ == '__main__':\n",
        "    app.run_server(debug=True)"
      ],
      "execution_count": 8,
      "outputs": [
        {
          "output_type": "stream",
          "text": [
            "Overwriting my_app1.py\n"
          ],
          "name": "stdout"
        }
      ]
    },
    {
      "metadata": {
        "id": "gCRC43E0XLPZ",
        "colab_type": "code",
        "outputId": "8d35547e-331d-4082-eb89-1d106051a45e",
        "colab": {
          "base_uri": "https://localhost:8080/",
          "height": 881
        }
      },
      "cell_type": "code",
      "source": [
        "!python my_app1.py"
      ],
      "execution_count": 0,
      "outputs": [
        {
          "output_type": "stream",
          "text": [
            "Running on http://127.0.0.1:8050/\n",
            "Debugger PIN: 619-410-628\n",
            " * Serving Flask app \"my_app1\" (lazy loading)\n",
            " * Environment: production\n",
            "\u001b[31m   WARNING: Do not use the development server in a production environment.\u001b[0m\n",
            "\u001b[2m   Use a production WSGI server instead.\u001b[0m\n",
            " * Debug mode: on\n",
            "Running on http://127.0.0.1:8050/\n",
            "Debugger PIN: 160-621-387\n",
            "Traceback (most recent call last):\n",
            "  File \"/usr/local/lib/python2.7/dist-packages/flask/app.py\", line 2309, in __call__\n",
            "    return self.wsgi_app(environ, start_response)\n",
            "  File \"/usr/local/lib/python2.7/dist-packages/flask/app.py\", line 2295, in wsgi_app\n",
            "    response = self.handle_exception(e)\n",
            "  File \"/usr/local/lib/python2.7/dist-packages/flask/app.py\", line 1741, in handle_exception\n",
            "    reraise(exc_type, exc_value, tb)\n",
            "  File \"/usr/local/lib/python2.7/dist-packages/flask/app.py\", line 2292, in wsgi_app\n",
            "    response = self.full_dispatch_request()\n",
            "  File \"/usr/local/lib/python2.7/dist-packages/flask/app.py\", line 1815, in full_dispatch_request\n",
            "    rv = self.handle_user_exception(e)\n",
            "  File \"/usr/local/lib/python2.7/dist-packages/flask/app.py\", line 1718, in handle_user_exception\n",
            "    reraise(exc_type, exc_value, tb)\n",
            "  File \"/usr/local/lib/python2.7/dist-packages/flask/app.py\", line 1813, in full_dispatch_request\n",
            "    rv = self.dispatch_request()\n",
            "  File \"/usr/local/lib/python2.7/dist-packages/flask/app.py\", line 1799, in dispatch_request\n",
            "    return self.view_functions[rule.endpoint](**req.view_args)\n",
            "  File \"/usr/local/lib/python2.7/dist-packages/dash/dash.py\", line 496, in serve_component_suites\n",
            "    })[path_in_package_dist.split('.')[-1]]\n",
            "KeyError: u'map'\n",
            "Traceback (most recent call last):\n",
            "  File \"/usr/local/lib/python2.7/dist-packages/flask/app.py\", line 2309, in __call__\n",
            "    return self.wsgi_app(environ, start_response)\n",
            "  File \"/usr/local/lib/python2.7/dist-packages/flask/app.py\", line 2295, in wsgi_app\n",
            "    response = self.handle_exception(e)\n",
            "  File \"/usr/local/lib/python2.7/dist-packages/flask/app.py\", line 1741, in handle_exception\n",
            "    reraise(exc_type, exc_value, tb)\n",
            "  File \"/usr/local/lib/python2.7/dist-packages/flask/app.py\", line 2292, in wsgi_app\n",
            "    response = self.full_dispatch_request()\n",
            "  File \"/usr/local/lib/python2.7/dist-packages/flask/app.py\", line 1815, in full_dispatch_request\n",
            "    rv = self.handle_user_exception(e)\n",
            "  File \"/usr/local/lib/python2.7/dist-packages/flask/app.py\", line 1718, in handle_user_exception\n",
            "    reraise(exc_type, exc_value, tb)\n",
            "  File \"/usr/local/lib/python2.7/dist-packages/flask/app.py\", line 1813, in full_dispatch_request\n",
            "    rv = self.dispatch_request()\n",
            "  File \"/usr/local/lib/python2.7/dist-packages/flask/app.py\", line 1799, in dispatch_request\n",
            "    return self.view_functions[rule.endpoint](**req.view_args)\n",
            "  File \"/usr/local/lib/python2.7/dist-packages/dash/dash.py\", line 496, in serve_component_suites\n",
            "    })[path_in_package_dist.split('.')[-1]]\n",
            "KeyError: u'map'\n"
          ],
          "name": "stdout"
        }
      ]
    },
    {
      "metadata": {
        "id": "odAG4dSUza6Q",
        "colab_type": "code",
        "colab": {}
      },
      "cell_type": "code",
      "source": [
        "df"
      ],
      "execution_count": 0,
      "outputs": []
    },
    {
      "metadata": {
        "id": "0lPb3nAs2mKN",
        "colab_type": "code",
        "colab": {}
      },
      "cell_type": "code",
      "source": [
        ""
      ],
      "execution_count": 0,
      "outputs": []
    }
  ]
}